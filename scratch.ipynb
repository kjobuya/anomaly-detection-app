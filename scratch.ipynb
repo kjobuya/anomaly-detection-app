{
 "cells": [
  {
   "cell_type": "code",
   "execution_count": 11,
   "metadata": {},
   "outputs": [
    {
     "name": "stdout",
     "output_type": "stream",
     "text": [
      "Euclidean Distance: [[ 7.21110255  9.89949494 10.81665383]\n",
      " [ 5.83095189  8.48528137  9.43398113]]\n",
      "Euclidean Distance shape: (2, 3)\n"
     ]
    }
   ],
   "source": [
    "from sklearn.metrics import pairwise_distances\n",
    "import numpy as np\n",
    "\n",
    "# Sample points (arrays)\n",
    "origin = np.array([\n",
    "                    [0, 0],\n",
    "                    [1, 1]\n",
    "                    ])\n",
    "points = np.array([\n",
    "                    [4, 6],\n",
    "                    [7, 7],\n",
    "                    [6, 9]\n",
    "                    ])\n",
    "\n",
    "# Calculate Euclidean distance\n",
    "distance = pairwise_distances(X = origin,\n",
    "                              Y = points, \n",
    "                              metric='euclidean')\n",
    "\n",
    "print(f\"Euclidean Distance: {distance}\")\n",
    "print(f\"Euclidean Distance shape: {distance.shape}\")"
   ]
  },
  {
   "cell_type": "code",
   "execution_count": 12,
   "metadata": {},
   "outputs": [
    {
     "name": "stdout",
     "output_type": "stream",
     "text": [
      "Euclidean Distance: tensor([[ 7.2111,  9.8995, 10.8167],\n",
      "        [ 5.8310,  8.4853,  9.4340]], device='cuda:0', dtype=torch.float64)\n",
      "Euclidean Distance shape: torch.Size([2, 3])\n"
     ]
    }
   ],
   "source": [
    "import torch\n",
    "\n",
    "origin_tensor = torch.tensor(origin, dtype=torch.float64).to('cuda')\n",
    "points_tensor = torch.tensor(points, dtype=torch.float64).to('cuda')\n",
    "\n",
    "distance = torch.cdist(origin_tensor, points_tensor, p=2)\n",
    "\n",
    "print(f\"Euclidean Distance: {distance}\")\n",
    "print(f\"Euclidean Distance shape: {distance.shape}\")"
   ]
  },
  {
   "cell_type": "code",
   "execution_count": 10,
   "metadata": {},
   "outputs": [
    {
     "name": "stdout",
     "output_type": "stream",
     "text": [
      "Time to compute Euclidean distance: 0.0954585075378418 with scipy\n",
      "Time to compute Euclidean distance: 0.015396356582641602 with pytorch\n"
     ]
    }
   ],
   "source": [
    "# speed comparison\n",
    "import time\n",
    "\n",
    "origin = np.random.randint(low=0, high=10, size=(200, 40000))\n",
    "points = np.random.randint(low=0, high=10, size=(200, 40000))\n",
    "\n",
    "t1 = time.time()\n",
    "distance = pairwise_distances(X = origin,\n",
    "                              Y = points, \n",
    "                              metric='euclidean')\n",
    "t2 = time.time()\n",
    "\n",
    "print(f\"Time to compute Euclidean distance: {t2-t1} with scipy\")\n",
    "\n",
    "origin_tensor = torch.tensor(origin, dtype=torch.float64).to('cuda')\n",
    "points_tensor = torch.tensor(points, dtype=torch.float64).to('cuda')\n",
    "\n",
    "t1 = time.time()\n",
    "distance = torch.cdist(origin_tensor, points_tensor, p=2)\n",
    "t2 = time.time()\n",
    "\n",
    "print(f\"Time to compute Euclidean distance: {t2-t1} with pytorch\")\n",
    "\n"
   ]
  }
 ],
 "metadata": {
  "kernelspec": {
   "display_name": "analysis_env",
   "language": "python",
   "name": "python3"
  },
  "language_info": {
   "codemirror_mode": {
    "name": "ipython",
    "version": 3
   },
   "file_extension": ".py",
   "mimetype": "text/x-python",
   "name": "python",
   "nbconvert_exporter": "python",
   "pygments_lexer": "ipython3",
   "version": "3.11.4"
  }
 },
 "nbformat": 4,
 "nbformat_minor": 2
}
